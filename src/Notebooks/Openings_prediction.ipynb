{
 "cells": [
  {
   "cell_type": "markdown",
   "id": "af865c84-b122-4608-aa28-f3d436c4e0ef",
   "metadata": {},
   "source": [
    "# Downloading necessary libraries"
   ]
  },
  {
   "cell_type": "code",
   "execution_count": 57,
   "id": "38f0e2d6-3ad5-4966-a79f-b8904694ddf5",
   "metadata": {},
   "outputs": [],
   "source": [
    "!pip -qq install torch torchvision torchaudio\n",
    "!pip -qq install matplotlib pandas numpy scikit-learn openpyxl\n"
   ]
  },
  {
   "cell_type": "markdown",
   "id": "ad515dc1-fabe-41f0-9a20-fec1c00486b5",
   "metadata": {},
   "source": [
    "# Import necessary libraries"
   ]
  },
  {
   "cell_type": "code",
   "execution_count": 62,
   "id": "9bea7c6c-8cd8-4718-aa73-3fcafd621dfb",
   "metadata": {},
   "outputs": [],
   "source": [
    "import torch\n",
    "from torch import nn\n",
    "import matplotlib.pyplot as plt\n",
    "import numpy as np\n",
    "import pandas as pd\n",
    "from sklearn.model_selection import train_test_split\n",
    "from sklearn.preprocessing import OneHotEncoder\n",
    "from sklearn.preprocessing import StandardScaler\n",
    "from sklearn.compose import ColumnTransformer"
   ]
  },
  {
   "cell_type": "markdown",
   "id": "2d64fd3d-6158-4d5f-86b6-b9536eb5bc2a",
   "metadata": {},
   "source": [
    "# Device agnostic"
   ]
  },
  {
   "cell_type": "code",
   "execution_count": 14,
   "id": "1b29e9e5-53ab-4abf-82cb-0ff5654bfb6a",
   "metadata": {},
   "outputs": [],
   "source": [
    "device = \"cuda\" if torch.cuda.is_available() else \"mps\" if torch.backends.mps.is_available() else \"cpu\""
   ]
  },
  {
   "cell_type": "markdown",
   "id": "c6b3cd93-fd49-4ad6-a96d-24a6f7c6928e",
   "metadata": {},
   "source": [
    "# Load the data"
   ]
  },
  {
   "cell_type": "code",
   "execution_count": 41,
   "id": "eeb05e1f-2c88-4333-8055-ffdc658d8234",
   "metadata": {},
   "outputs": [
    {
     "data": {
      "text/html": [
       "<div>\n",
       "<style scoped>\n",
       "    .dataframe tbody tr th:only-of-type {\n",
       "        vertical-align: middle;\n",
       "    }\n",
       "\n",
       "    .dataframe tbody tr th {\n",
       "        vertical-align: top;\n",
       "    }\n",
       "\n",
       "    .dataframe thead th {\n",
       "        text-align: right;\n",
       "    }\n",
       "</style>\n",
       "<table border=\"1\" class=\"dataframe\">\n",
       "  <thead>\n",
       "    <tr style=\"text-align: right;\">\n",
       "      <th></th>\n",
       "      <th>space</th>\n",
       "      <th>room_size</th>\n",
       "      <th>capacity</th>\n",
       "      <th>user_per_min</th>\n",
       "      <th>width1</th>\n",
       "      <th>width2</th>\n",
       "      <th>width3</th>\n",
       "      <th>width4</th>\n",
       "      <th>width5</th>\n",
       "      <th>no_of_openings_1</th>\n",
       "      <th>no_of_openings_2</th>\n",
       "      <th>no_of_openings_3</th>\n",
       "      <th>no_of_openings_4</th>\n",
       "      <th>no_of_openings_5</th>\n",
       "    </tr>\n",
       "  </thead>\n",
       "  <tbody>\n",
       "    <tr>\n",
       "      <th>0</th>\n",
       "      <td>Area for standing</td>\n",
       "      <td>50</td>\n",
       "      <td>167</td>\n",
       "      <td>5</td>\n",
       "      <td>0.65</td>\n",
       "      <td>0.0</td>\n",
       "      <td>0.0</td>\n",
       "      <td>0.0</td>\n",
       "      <td>0.0</td>\n",
       "      <td>True</td>\n",
       "      <td>False</td>\n",
       "      <td>False</td>\n",
       "      <td>False</td>\n",
       "      <td>False</td>\n",
       "    </tr>\n",
       "    <tr>\n",
       "      <th>1</th>\n",
       "      <td>Area for standing</td>\n",
       "      <td>75</td>\n",
       "      <td>250</td>\n",
       "      <td>5</td>\n",
       "      <td>0.65</td>\n",
       "      <td>0.0</td>\n",
       "      <td>0.0</td>\n",
       "      <td>0.0</td>\n",
       "      <td>0.0</td>\n",
       "      <td>True</td>\n",
       "      <td>False</td>\n",
       "      <td>False</td>\n",
       "      <td>False</td>\n",
       "      <td>False</td>\n",
       "    </tr>\n",
       "    <tr>\n",
       "      <th>2</th>\n",
       "      <td>Area for standing</td>\n",
       "      <td>100</td>\n",
       "      <td>333</td>\n",
       "      <td>5</td>\n",
       "      <td>0.65</td>\n",
       "      <td>0.0</td>\n",
       "      <td>0.0</td>\n",
       "      <td>0.0</td>\n",
       "      <td>0.0</td>\n",
       "      <td>True</td>\n",
       "      <td>False</td>\n",
       "      <td>False</td>\n",
       "      <td>False</td>\n",
       "      <td>False</td>\n",
       "    </tr>\n",
       "    <tr>\n",
       "      <th>3</th>\n",
       "      <td>Area for standing</td>\n",
       "      <td>125</td>\n",
       "      <td>417</td>\n",
       "      <td>5</td>\n",
       "      <td>0.65</td>\n",
       "      <td>0.0</td>\n",
       "      <td>0.0</td>\n",
       "      <td>0.0</td>\n",
       "      <td>0.0</td>\n",
       "      <td>True</td>\n",
       "      <td>False</td>\n",
       "      <td>False</td>\n",
       "      <td>False</td>\n",
       "      <td>False</td>\n",
       "    </tr>\n",
       "    <tr>\n",
       "      <th>4</th>\n",
       "      <td>Area for standing</td>\n",
       "      <td>150</td>\n",
       "      <td>500</td>\n",
       "      <td>5</td>\n",
       "      <td>0.65</td>\n",
       "      <td>0.0</td>\n",
       "      <td>0.0</td>\n",
       "      <td>0.0</td>\n",
       "      <td>0.0</td>\n",
       "      <td>True</td>\n",
       "      <td>False</td>\n",
       "      <td>False</td>\n",
       "      <td>False</td>\n",
       "      <td>False</td>\n",
       "    </tr>\n",
       "  </tbody>\n",
       "</table>\n",
       "</div>"
      ],
      "text/plain": [
       "               space  room_size  capacity  user_per_min  width1  width2  \\\n",
       "0  Area for standing         50       167             5    0.65     0.0   \n",
       "1  Area for standing         75       250             5    0.65     0.0   \n",
       "2  Area for standing        100       333             5    0.65     0.0   \n",
       "3  Area for standing        125       417             5    0.65     0.0   \n",
       "4  Area for standing        150       500             5    0.65     0.0   \n",
       "\n",
       "   width3  width4  width5  no_of_openings_1  no_of_openings_2  \\\n",
       "0     0.0     0.0     0.0              True             False   \n",
       "1     0.0     0.0     0.0              True             False   \n",
       "2     0.0     0.0     0.0              True             False   \n",
       "3     0.0     0.0     0.0              True             False   \n",
       "4     0.0     0.0     0.0              True             False   \n",
       "\n",
       "   no_of_openings_3  no_of_openings_4  no_of_openings_5  \n",
       "0             False             False             False  \n",
       "1             False             False             False  \n",
       "2             False             False             False  \n",
       "3             False             False             False  \n",
       "4             False             False             False  "
      ]
     },
     "execution_count": 41,
     "metadata": {},
     "output_type": "execute_result"
    }
   ],
   "source": [
    "data = pd.read_csv(\"data/openings.csv\")\n",
    "data.head()"
   ]
  },
  {
   "cell_type": "code",
   "execution_count": 42,
   "id": "de478887-3d4b-4258-bbe5-ae96b8320b4b",
   "metadata": {},
   "outputs": [],
   "source": [
    "X = data.drop(['no_of_openings_1', 'no_of_openings_2', 'no_of_openings_3', 'no_of_openings_4', 'no_of_openings_5', 'width1', 'width2', 'width3', 'width4', 'width5'], axis=1)"
   ]
  },
  {
   "cell_type": "code",
   "execution_count": 43,
   "id": "bc67033c-f3f4-41c8-a727-df32200329ef",
   "metadata": {},
   "outputs": [],
   "source": [
    "y = data.drop([\"space\", \"room_size\", \"capacity\", \"user_per_min\"], axis=1)"
   ]
  },
  {
   "cell_type": "code",
   "execution_count": 44,
   "id": "4aaea243-def7-4a83-b6d8-cd47da73be76",
   "metadata": {},
   "outputs": [
    {
     "data": {
      "text/plain": [
       "((7350, 4), (7350, 10))"
      ]
     },
     "execution_count": 44,
     "metadata": {},
     "output_type": "execute_result"
    }
   ],
   "source": [
    "X.shape, y.shape"
   ]
  },
  {
   "cell_type": "markdown",
   "id": "9ea5e089-1e31-4985-9133-1a22b0c276e2",
   "metadata": {},
   "source": [
    "## Split the data into train and test data"
   ]
  },
  {
   "cell_type": "code",
   "execution_count": 45,
   "id": "7b3251c3-4240-43ae-a7c0-9c7268bff904",
   "metadata": {},
   "outputs": [],
   "source": [
    "X_train, X_test, y_train, y_test = train_test_split(X, y, test_size=0.1, random_state=42)"
   ]
  },
  {
   "cell_type": "code",
   "execution_count": 46,
   "id": "4202ba44-f6c6-4cba-b88e-0732071ea47a",
   "metadata": {},
   "outputs": [],
   "source": [
    "y_train = np.array(y_train.values, dtype=np.float32)\n",
    "y_test = np.array(y_test.values, dtype=np.float32)"
   ]
  },
  {
   "cell_type": "markdown",
   "id": "859b0731-e3b9-4405-a43f-4134f3b5117a",
   "metadata": {},
   "source": [
    "# Data Preprocessing"
   ]
  },
  {
   "cell_type": "code",
   "execution_count": 47,
   "id": "f139186d-1d2a-4855-86b7-49ff8a5d1cd1",
   "metadata": {},
   "outputs": [],
   "source": [
    "num_attribs = [\"room_size\", \"capacity\", \"user_per_min\"]\n",
    "cat_attribs = [\"space\"]\n",
    "\n",
    "full_pipeline = ColumnTransformer([\n",
    "        (\"num\", StandardScaler(), num_attribs),\n",
    "        (\"cat\", OneHotEncoder(), cat_attribs),\n",
    "    ])"
   ]
  },
  {
   "cell_type": "code",
   "execution_count": 48,
   "id": "748ef60e-8222-4e88-8471-cd118362c8ca",
   "metadata": {},
   "outputs": [],
   "source": [
    "X_train_tensor = torch.Tensor(full_pipeline.fit_transform(X_train)).to(device)\n",
    "X_test_tensor = torch.Tensor(full_pipeline.transform(X_test)).to(device)\n",
    "y_train_tensor = torch.from_numpy(y_train).to(device)\n",
    "y_test_tensor = torch.from_numpy(y_test).to(device)"
   ]
  },
  {
   "cell_type": "code",
   "execution_count": 52,
   "id": "9933a494-3d88-4f99-b6f2-d41636afe2af",
   "metadata": {},
   "outputs": [
    {
     "data": {
      "text/plain": [
       "tensor([0.7500, 0.7500, 2.0000, 0.0000, 0.0000, 0.0000, 0.0000, 1.0000, 0.0000,\n",
       "        0.0000], device='mps:0')"
      ]
     },
     "execution_count": 52,
     "metadata": {},
     "output_type": "execute_result"
    }
   ],
   "source": [
    "y_train_tensor[0]"
   ]
  },
  {
   "cell_type": "code",
   "execution_count": 50,
   "id": "732fd681-7ec0-4021-b6ca-b055681aac13",
   "metadata": {},
   "outputs": [
    {
     "data": {
      "text/plain": [
       "torch.Size([6615, 13])"
      ]
     },
     "execution_count": 50,
     "metadata": {},
     "output_type": "execute_result"
    }
   ],
   "source": [
    "X_train_tensor.shape"
   ]
  },
  {
   "cell_type": "markdown",
   "id": "940e5f6d-5762-4306-a8e0-f5290c01578a",
   "metadata": {},
   "source": [
    "# Building the model"
   ]
  },
  {
   "cell_type": "code",
   "execution_count": 79,
   "id": "9d10ec15-0136-45a7-901d-e6ceeeb592d7",
   "metadata": {},
   "outputs": [],
   "source": [
    "class OpeningsPredictor(nn.Module):\n",
    "    def __init__(self):\n",
    "        super().__init__()\n",
    "        self.layer_stack = nn.Sequential(\n",
    "            nn.Linear(in_features=13, out_features=64),\n",
    "            nn.ReLU(),\n",
    "            nn.Linear(in_features=64, out_features=64),\n",
    "            nn.ReLU(),\n",
    "            nn.Linear(in_features=64, out_features=10)\n",
    "        )\n",
    "\n",
    "    def forward(self, X):\n",
    "        return self.layer_stack(X)"
   ]
  },
  {
   "cell_type": "code",
   "execution_count": 80,
   "id": "6354304a-a65c-48de-906a-c0e23cd9765d",
   "metadata": {},
   "outputs": [],
   "source": [
    "openings_predictor = OpeningsPredictor().to(device)"
   ]
  },
  {
   "cell_type": "code",
   "execution_count": 81,
   "id": "2e8c252f-2488-4aa5-ac5d-313e1f1aaa31",
   "metadata": {},
   "outputs": [],
   "source": [
    "loss_fn = nn.L1Loss()\n",
    "optimizer = torch.optim.Adam(params=openings_predictor.parameters(), lr=0.01)"
   ]
  },
  {
   "cell_type": "code",
   "execution_count": 82,
   "id": "58b6e666-c737-4dcc-bcd4-f02036b41983",
   "metadata": {},
   "outputs": [],
   "source": [
    "def acc(y_pred, y_train):\n",
    "    sum_ = 0\n",
    "    count = 0\n",
    "    for x, y in zip(y_pred, y_train):\n",
    "        sum_ += (torch.round(x[0])-y[0]) + sum(x[1:]-y[1:])\n",
    "        count += 1\n",
    "    return sum_/count"
   ]
  },
  {
   "cell_type": "markdown",
   "id": "ee7ac4fc-f5b0-4f02-a83f-9fb483202a85",
   "metadata": {},
   "source": [
    "# Training the model"
   ]
  },
  {
   "cell_type": "code",
   "execution_count": 83,
   "id": "57d7ba7d-55d8-438f-bdf1-f89c2fbe994c",
   "metadata": {},
   "outputs": [
    {
     "name": "stdout",
     "output_type": "stream",
     "text": [
      "Epoch: 0 | Loss: 0.55873 Acc: -5.0489| Test Loss: 0.50321 Test Acc: -4.6940\n",
      "Epoch: 100 | Loss: 0.26098 Acc: -0.7066| Test Loss: 0.26283 Test Acc: -0.6662\n",
      "Epoch: 200 | Loss: 0.24391 Acc: -0.8155| Test Loss: 0.24795 Test Acc: -0.7449\n",
      "Epoch: 300 | Loss: 0.22872 Acc: -0.6225| Test Loss: 0.23723 Test Acc: -0.5190\n",
      "Epoch: 400 | Loss: 0.22426 Acc: -0.7084| Test Loss: 0.23282 Test Acc: -0.6571\n",
      "Epoch: 500 | Loss: 0.21350 Acc: -0.5528| Test Loss: 0.22291 Test Acc: -0.5041\n",
      "Epoch: 600 | Loss: 0.21020 Acc: -0.3312| Test Loss: 0.21519 Test Acc: -0.3914\n",
      "Epoch: 700 | Loss: 0.19767 Acc: -0.3103| Test Loss: 0.20690 Test Acc: -0.3415\n",
      "Epoch: 800 | Loss: 0.18650 Acc: -0.2978| Test Loss: 0.19660 Test Acc: -0.1566\n",
      "Epoch: 900 | Loss: 0.18406 Acc: -0.0119| Test Loss: 0.19085 Test Acc: -0.0977\n"
     ]
    }
   ],
   "source": [
    "torch.manual_seed(42)\n",
    "epochs = 1000\n",
    "\n",
    "epoch_count = []\n",
    "train_loss_values = []\n",
    "test_loss_values = []\n",
    "\n",
    "for epoch in range(epochs):\n",
    "\n",
    "    # Training\n",
    "    openings_predictor.train()\n",
    "    train_predictions = openings_predictor(X_train_tensor)\n",
    "    train_loss = loss_fn(train_predictions, y_train_tensor)\n",
    "    optimizer.zero_grad()\n",
    "    train_loss.backward()\n",
    "    optimizer.step()\n",
    "\n",
    "    # Testing\n",
    "    openings_predictor.eval()\n",
    "    with torch.inference_mode():\n",
    "        test_predictions = openings_predictor(X_test_tensor)\n",
    "        test_loss = loss_fn(test_predictions, y_test_tensor)\n",
    "\n",
    "    # Print out what's happening\n",
    "    if epoch % 100 == 0:\n",
    "        epoch_count.append(epoch)\n",
    "        train_loss_values.append(train_loss)\n",
    "        test_loss_values.append(test_loss)\n",
    "        print(f\"Epoch: {epoch} | Loss: {train_loss:.5f} Acc: {acc(train_predictions, y_train_tensor).item():.4f}| Test Loss: {test_loss:.5f} Test Acc: {acc(test_predictions, y_test_tensor).item():.4f}\")"
   ]
  },
  {
   "cell_type": "code",
   "execution_count": 88,
   "id": "0ed95a7b-7df4-47b3-84c9-e0b774d3c00b",
   "metadata": {},
   "outputs": [
    {
     "name": "stdout",
     "output_type": "stream",
     "text": [
      "tensor([ 2.1011,  0.2287,  0.0493, -0.0136, -0.0295,  0.7559,  0.1612,  0.0187,\n",
      "         0.0085, -0.0381], device='mps:0')\n",
      "Test Loss: 0.18141 Test Acc: 0.1991\n"
     ]
    }
   ],
   "source": [
    "openings_predictor.eval()\n",
    "with torch.inference_mode():\n",
    "    test_predictions = openings_predictor(X_test_tensor)\n",
    "    print(test_predictions[0])\n",
    "    test_loss = loss_fn(test_predictions, y_test_tensor)\n",
    "print(f\"Test Loss: {test_loss:.5f} Test Acc: {acc(test_predictions, y_test_tensor).item():.4f}\")"
   ]
  },
  {
   "cell_type": "markdown",
   "id": "6405f113-7e9d-4406-a48d-1f0bf4349f9d",
   "metadata": {},
   "source": [
    "# Plot the loss"
   ]
  },
  {
   "cell_type": "code",
   "execution_count": 93,
   "id": "a67d75bd-282a-4a56-a9f2-0149bd40478e",
   "metadata": {},
   "outputs": [
    {
     "name": "stdout",
     "output_type": "stream",
     "text": [
      "[1, 2.1, 0, 0, 0, 0]\n",
      "[5, 0.75, 0.73, 1.91, 1.91, 2.03]\n",
      "[3, 0.76, 0.79, 0.72, 0, 0]\n",
      "[5, 0.76, 0.74, 0.77, 0.91, 0.63]\n",
      "[5, 0.75, 1.09, 1.21, 0.67, 0.49]\n",
      "[1, 2.12, 0, 0, 0, 0]\n",
      "[4, 0.76, 0.74, 0.8, 0.91, 0]\n",
      "[2, 0.77, 0.97, 0, 0, 0]\n",
      "[3, 0.76, 1.77, 2.4, 0, 0]\n",
      "[3, 0.75, 1.49, 1.88, 0, 0]\n"
     ]
    }
   ],
   "source": [
    "def print_predictions(predictions):\n",
    "    for prediction in predictions[:10]:\n",
    "        val = [0]*6\n",
    "        val[0] = torch.argmax(prediction[5:]).type(torch.int).item() + 1\n",
    "        for i in range(val[0]):\n",
    "            val[i+1] = np.round(prediction[i].cpu().numpy(), 2)\n",
    "        print(val)\n",
    "\n",
    "with torch.inference_mode():\n",
    "    print_predictions(openings_predictor(X_test_tensor))"
   ]
  },
  {
   "cell_type": "markdown",
   "id": "dac8321b-c927-4e46-9d60-1e61f1933421",
   "metadata": {},
   "source": [
    "# Saving the model"
   ]
  },
  {
   "cell_type": "code",
   "execution_count": 94,
   "id": "b2074ea3-06bf-4e24-a6d9-dc2fb2a763a0",
   "metadata": {},
   "outputs": [],
   "source": [
    "torch.save(openings_predictor.to(\"cpu\"), \"../models/openings.pth\")"
   ]
  },
  {
   "cell_type": "code",
   "execution_count": 95,
   "id": "1aa047d3-05e6-4033-8c23-7f1d65ffa8fa",
   "metadata": {},
   "outputs": [
    {
     "data": {
      "text/plain": [
       "['../models/openings_pipeline.pkl']"
      ]
     },
     "execution_count": 95,
     "metadata": {},
     "output_type": "execute_result"
    }
   ],
   "source": [
    "import joblib\n",
    "joblib.dump(full_pipeline, \"../models/openings_pipeline.pkl\", compress=True)  "
   ]
  },
  {
   "cell_type": "code",
   "execution_count": null,
   "id": "f31d6c70-6254-47c2-b43c-cefedce29cb2",
   "metadata": {},
   "outputs": [],
   "source": []
  }
 ],
 "metadata": {
  "kernelspec": {
   "display_name": "Python 3 (ipykernel)",
   "language": "python",
   "name": "python3"
  },
  "language_info": {
   "codemirror_mode": {
    "name": "ipython",
    "version": 3
   },
   "file_extension": ".py",
   "mimetype": "text/x-python",
   "name": "python",
   "nbconvert_exporter": "python",
   "pygments_lexer": "ipython3",
   "version": "3.10.12"
  }
 },
 "nbformat": 4,
 "nbformat_minor": 5
}
