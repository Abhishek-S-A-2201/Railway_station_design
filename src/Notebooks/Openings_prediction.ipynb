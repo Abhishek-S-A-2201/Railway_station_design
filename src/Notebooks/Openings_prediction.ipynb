{
 "cells": [
  {
   "cell_type": "markdown",
   "id": "af865c84-b122-4608-aa28-f3d436c4e0ef",
   "metadata": {},
   "source": [
    "# Downloading necessary libraries"
   ]
  },
  {
   "cell_type": "code",
   "execution_count": 1,
   "id": "38f0e2d6-3ad5-4966-a79f-b8904694ddf5",
   "metadata": {},
   "outputs": [],
   "source": [
    "!pip3 -qq install torch torchvision torchaudio\n",
    "!pip -qq install matplotlib pandas numpy scikit-learn openpyxl"
   ]
  },
  {
   "cell_type": "markdown",
   "id": "ad515dc1-fabe-41f0-9a20-fec1c00486b5",
   "metadata": {},
   "source": [
    "# Import necessary libraries"
   ]
  },
  {
   "cell_type": "code",
   "execution_count": 2,
   "id": "9bea7c6c-8cd8-4718-aa73-3fcafd621dfb",
   "metadata": {},
   "outputs": [],
   "source": [
    "import torch\n",
    "from torch import nn\n",
    "import matplotlib.pyplot as plt\n",
    "import numpy as np\n",
    "import pandas as pd\n",
    "from sklearn.model_selection import train_test_split\n",
    "from sklearn.preprocessing import OneHotEncoder\n",
    "from sklearn.pipeline import Pipeline\n",
    "from sklearn.preprocessing import StandardScaler\n",
    "from sklearn.compose import ColumnTransformer"
   ]
  },
  {
   "cell_type": "markdown",
   "id": "2d64fd3d-6158-4d5f-86b6-b9536eb5bc2a",
   "metadata": {},
   "source": [
    "# Device agnostic"
   ]
  },
  {
   "cell_type": "code",
   "execution_count": 3,
   "id": "1b29e9e5-53ab-4abf-82cb-0ff5654bfb6a",
   "metadata": {},
   "outputs": [],
   "source": [
    "device = \"cuda\" if torch.cuda.is_available() else \"mps\" if torch.backends.mps.is_available() else \"cpu\""
   ]
  },
  {
   "cell_type": "markdown",
   "id": "c6b3cd93-fd49-4ad6-a96d-24a6f7c6928e",
   "metadata": {},
   "source": [
    "# Load the data"
   ]
  },
  {
   "cell_type": "code",
   "execution_count": 4,
   "id": "eeb05e1f-2c88-4333-8055-ffdc658d8234",
   "metadata": {},
   "outputs": [
    {
     "data": {
      "text/html": [
       "<div>\n",
       "<style scoped>\n",
       "    .dataframe tbody tr th:only-of-type {\n",
       "        vertical-align: middle;\n",
       "    }\n",
       "\n",
       "    .dataframe tbody tr th {\n",
       "        vertical-align: top;\n",
       "    }\n",
       "\n",
       "    .dataframe thead th {\n",
       "        text-align: right;\n",
       "    }\n",
       "</style>\n",
       "<table border=\"1\" class=\"dataframe\">\n",
       "  <thead>\n",
       "    <tr style=\"text-align: right;\">\n",
       "      <th></th>\n",
       "      <th>space</th>\n",
       "      <th>room_size</th>\n",
       "      <th>no_of_users</th>\n",
       "      <th>no_of_openings</th>\n",
       "      <th>width_1</th>\n",
       "      <th>width_2</th>\n",
       "      <th>width_3</th>\n",
       "      <th>width_4</th>\n",
       "      <th>width_5</th>\n",
       "    </tr>\n",
       "  </thead>\n",
       "  <tbody>\n",
       "    <tr>\n",
       "      <th>0</th>\n",
       "      <td>Area for standing</td>\n",
       "      <td>50</td>\n",
       "      <td>40</td>\n",
       "      <td>1</td>\n",
       "      <td>0.75</td>\n",
       "      <td>0.00</td>\n",
       "      <td>0.00</td>\n",
       "      <td>0.00</td>\n",
       "      <td>0.00</td>\n",
       "    </tr>\n",
       "    <tr>\n",
       "      <th>1</th>\n",
       "      <td>Area for standing</td>\n",
       "      <td>75</td>\n",
       "      <td>200</td>\n",
       "      <td>2</td>\n",
       "      <td>0.75</td>\n",
       "      <td>0.75</td>\n",
       "      <td>0.00</td>\n",
       "      <td>0.00</td>\n",
       "      <td>0.00</td>\n",
       "    </tr>\n",
       "    <tr>\n",
       "      <th>2</th>\n",
       "      <td>assembly hall,concourse</td>\n",
       "      <td>100</td>\n",
       "      <td>300</td>\n",
       "      <td>3</td>\n",
       "      <td>0.75</td>\n",
       "      <td>0.75</td>\n",
       "      <td>0.75</td>\n",
       "      <td>0.00</td>\n",
       "      <td>0.00</td>\n",
       "    </tr>\n",
       "    <tr>\n",
       "      <th>3</th>\n",
       "      <td>check in que</td>\n",
       "      <td>125</td>\n",
       "      <td>400</td>\n",
       "      <td>4</td>\n",
       "      <td>0.75</td>\n",
       "      <td>0.75</td>\n",
       "      <td>0.75</td>\n",
       "      <td>0.75</td>\n",
       "      <td>0.00</td>\n",
       "    </tr>\n",
       "    <tr>\n",
       "      <th>4</th>\n",
       "      <td>Office</td>\n",
       "      <td>150</td>\n",
       "      <td>500</td>\n",
       "      <td>5</td>\n",
       "      <td>0.75</td>\n",
       "      <td>0.75</td>\n",
       "      <td>0.75</td>\n",
       "      <td>0.75</td>\n",
       "      <td>0.75</td>\n",
       "    </tr>\n",
       "  </tbody>\n",
       "</table>\n",
       "</div>"
      ],
      "text/plain": [
       "                     space  room_size  no_of_users  no_of_openings  width_1  \\\n",
       "0        Area for standing         50           40               1     0.75   \n",
       "1        Area for standing         75          200               2     0.75   \n",
       "2  assembly hall,concourse        100          300               3     0.75   \n",
       "3             check in que        125          400               4     0.75   \n",
       "4                   Office        150          500               5     0.75   \n",
       "\n",
       "   width_2  width_3  width_4  width_5  \n",
       "0     0.00     0.00     0.00     0.00  \n",
       "1     0.75     0.00     0.00     0.00  \n",
       "2     0.75     0.75     0.00     0.00  \n",
       "3     0.75     0.75     0.75     0.00  \n",
       "4     0.75     0.75     0.75     0.75  "
      ]
     },
     "execution_count": 4,
     "metadata": {},
     "output_type": "execute_result"
    }
   ],
   "source": [
    "data = pd.read_excel(\"data/openings.xlsx\")\n",
    "data.head()"
   ]
  },
  {
   "cell_type": "code",
   "execution_count": 5,
   "id": "de478887-3d4b-4258-bbe5-ae96b8320b4b",
   "metadata": {},
   "outputs": [],
   "source": [
    "X = data.drop(['no_of_openings', 'width_1', 'width_2', 'width_3', 'width_4', 'width_5'], axis=1)"
   ]
  },
  {
   "cell_type": "code",
   "execution_count": 6,
   "id": "bc67033c-f3f4-41c8-a727-df32200329ef",
   "metadata": {},
   "outputs": [],
   "source": [
    "y = data.drop([\"space\", \"room_size\", \"no_of_users\"], axis=1)"
   ]
  },
  {
   "cell_type": "markdown",
   "id": "9ea5e089-1e31-4985-9133-1a22b0c276e2",
   "metadata": {},
   "source": [
    "## Split the data into train and test data"
   ]
  },
  {
   "cell_type": "code",
   "execution_count": 7,
   "id": "7b3251c3-4240-43ae-a7c0-9c7268bff904",
   "metadata": {},
   "outputs": [],
   "source": [
    "X_train, X_test, y_train, y_test = train_test_split(X, y, test_size=0.1, random_state=42)"
   ]
  },
  {
   "cell_type": "markdown",
   "id": "859b0731-e3b9-4405-a43f-4134f3b5117a",
   "metadata": {},
   "source": [
    "# Data Preprocessing"
   ]
  },
  {
   "cell_type": "code",
   "execution_count": 8,
   "id": "f139186d-1d2a-4855-86b7-49ff8a5d1cd1",
   "metadata": {},
   "outputs": [],
   "source": [
    "num_attribs = [\"room_size\", \"no_of_users\"]\n",
    "cat_attribs = [\"space\"]\n",
    "\n",
    "num_pipeline = Pipeline([('std_scaler', StandardScaler())])\n",
    "\n",
    "full_pipeline = ColumnTransformer([\n",
    "        (\"num\", num_pipeline, num_attribs),\n",
    "        (\"cat\", OneHotEncoder(), cat_attribs),\n",
    "    ])"
   ]
  },
  {
   "cell_type": "code",
   "execution_count": 9,
   "id": "748ef60e-8222-4e88-8471-cd118362c8ca",
   "metadata": {},
   "outputs": [],
   "source": [
    "X_train_tensor = torch.Tensor(full_pipeline.fit_transform(X_train)).to(device)\n",
    "X_test_tensor = torch.Tensor(full_pipeline.transform(X_test)).to(device)\n",
    "y_train_tensor = torch.from_numpy(y_train.values).float().to(device)\n",
    "y_test_tensor = torch.from_numpy(y_test.values).float().to(device)"
   ]
  },
  {
   "cell_type": "markdown",
   "id": "940e5f6d-5762-4306-a8e0-f5290c01578a",
   "metadata": {},
   "source": [
    "# Building the model"
   ]
  },
  {
   "cell_type": "code",
   "execution_count": null,
   "id": "9d10ec15-0136-45a7-901d-e6ceeeb592d7",
   "metadata": {},
   "outputs": [],
   "source": []
  }
 ],
 "metadata": {
  "kernelspec": {
   "display_name": "Python 3 (ipykernel)",
   "language": "python",
   "name": "python3"
  },
  "language_info": {
   "codemirror_mode": {
    "name": "ipython",
    "version": 3
   },
   "file_extension": ".py",
   "mimetype": "text/x-python",
   "name": "python",
   "nbconvert_exporter": "python",
   "pygments_lexer": "ipython3",
   "version": "3.10.12"
  }
 },
 "nbformat": 4,
 "nbformat_minor": 5
}
