{
 "cells": [
  {
   "cell_type": "markdown",
   "id": "af865c84-b122-4608-aa28-f3d436c4e0ef",
   "metadata": {},
   "source": [
    "# Downloading necessary libraries"
   ]
  },
  {
   "cell_type": "code",
   "execution_count": 1,
   "id": "38f0e2d6-3ad5-4966-a79f-b8904694ddf5",
   "metadata": {},
   "outputs": [],
   "source": [
    "!pip -qq install torch torchvision torchaudio\n",
    "!pip -qq install matplotlib pandas numpy scikit-learn openpyxl"
   ]
  },
  {
   "cell_type": "markdown",
   "id": "ad515dc1-fabe-41f0-9a20-fec1c00486b5",
   "metadata": {},
   "source": [
    "# Import necessary libraries"
   ]
  },
  {
   "cell_type": "code",
   "execution_count": 2,
   "id": "9bea7c6c-8cd8-4718-aa73-3fcafd621dfb",
   "metadata": {},
   "outputs": [],
   "source": [
    "import torch\n",
    "from torch import nn\n",
    "import matplotlib.pyplot as plt\n",
    "import numpy as np\n",
    "import pandas as pd\n",
    "from sklearn.model_selection import train_test_split\n",
    "from sklearn.preprocessing import OneHotEncoder\n",
    "from sklearn.pipeline import Pipeline\n",
    "from sklearn.preprocessing import StandardScaler\n",
    "from sklearn.compose import ColumnTransformer"
   ]
  },
  {
   "cell_type": "markdown",
   "id": "2d64fd3d-6158-4d5f-86b6-b9536eb5bc2a",
   "metadata": {},
   "source": [
    "# Device agnostic"
   ]
  },
  {
   "cell_type": "code",
   "execution_count": 3,
   "id": "1b29e9e5-53ab-4abf-82cb-0ff5654bfb6a",
   "metadata": {},
   "outputs": [],
   "source": [
    "device = \"cuda\" if torch.cuda.is_available() else \"mps\" if torch.backends.mps.is_available() else \"cpu\""
   ]
  },
  {
   "cell_type": "markdown",
   "id": "c6b3cd93-fd49-4ad6-a96d-24a6f7c6928e",
   "metadata": {},
   "source": [
    "# Load the data"
   ]
  },
  {
   "cell_type": "code",
   "execution_count": 4,
   "id": "eeb05e1f-2c88-4333-8055-ffdc658d8234",
   "metadata": {},
   "outputs": [
    {
     "data": {
      "text/html": [
       "<div>\n",
       "<style scoped>\n",
       "    .dataframe tbody tr th:only-of-type {\n",
       "        vertical-align: middle;\n",
       "    }\n",
       "\n",
       "    .dataframe tbody tr th {\n",
       "        vertical-align: top;\n",
       "    }\n",
       "\n",
       "    .dataframe thead th {\n",
       "        text-align: right;\n",
       "    }\n",
       "</style>\n",
       "<table border=\"1\" class=\"dataframe\">\n",
       "  <thead>\n",
       "    <tr style=\"text-align: right;\">\n",
       "      <th></th>\n",
       "      <th>space</th>\n",
       "      <th>room_size</th>\n",
       "      <th>capacity</th>\n",
       "      <th>user_per_min</th>\n",
       "      <th>no_of_openings</th>\n",
       "      <th>width1</th>\n",
       "      <th>width2</th>\n",
       "      <th>width3</th>\n",
       "      <th>width4</th>\n",
       "      <th>width5</th>\n",
       "    </tr>\n",
       "  </thead>\n",
       "  <tbody>\n",
       "    <tr>\n",
       "      <th>0</th>\n",
       "      <td>Area for standing</td>\n",
       "      <td>50</td>\n",
       "      <td>167</td>\n",
       "      <td>5</td>\n",
       "      <td>1</td>\n",
       "      <td>0.65</td>\n",
       "      <td>0.0</td>\n",
       "      <td>0.0</td>\n",
       "      <td>0.0</td>\n",
       "      <td>0.0</td>\n",
       "    </tr>\n",
       "    <tr>\n",
       "      <th>1</th>\n",
       "      <td>Area for standing</td>\n",
       "      <td>75</td>\n",
       "      <td>250</td>\n",
       "      <td>5</td>\n",
       "      <td>1</td>\n",
       "      <td>0.65</td>\n",
       "      <td>0.0</td>\n",
       "      <td>0.0</td>\n",
       "      <td>0.0</td>\n",
       "      <td>0.0</td>\n",
       "    </tr>\n",
       "    <tr>\n",
       "      <th>2</th>\n",
       "      <td>Area for standing</td>\n",
       "      <td>100</td>\n",
       "      <td>333</td>\n",
       "      <td>5</td>\n",
       "      <td>1</td>\n",
       "      <td>0.65</td>\n",
       "      <td>0.0</td>\n",
       "      <td>0.0</td>\n",
       "      <td>0.0</td>\n",
       "      <td>0.0</td>\n",
       "    </tr>\n",
       "    <tr>\n",
       "      <th>3</th>\n",
       "      <td>Area for standing</td>\n",
       "      <td>125</td>\n",
       "      <td>417</td>\n",
       "      <td>5</td>\n",
       "      <td>1</td>\n",
       "      <td>0.65</td>\n",
       "      <td>0.0</td>\n",
       "      <td>0.0</td>\n",
       "      <td>0.0</td>\n",
       "      <td>0.0</td>\n",
       "    </tr>\n",
       "    <tr>\n",
       "      <th>4</th>\n",
       "      <td>Area for standing</td>\n",
       "      <td>150</td>\n",
       "      <td>500</td>\n",
       "      <td>5</td>\n",
       "      <td>1</td>\n",
       "      <td>0.65</td>\n",
       "      <td>0.0</td>\n",
       "      <td>0.0</td>\n",
       "      <td>0.0</td>\n",
       "      <td>0.0</td>\n",
       "    </tr>\n",
       "  </tbody>\n",
       "</table>\n",
       "</div>"
      ],
      "text/plain": [
       "               space  room_size  capacity  user_per_min  no_of_openings  \\\n",
       "0  Area for standing         50       167             5               1   \n",
       "1  Area for standing         75       250             5               1   \n",
       "2  Area for standing        100       333             5               1   \n",
       "3  Area for standing        125       417             5               1   \n",
       "4  Area for standing        150       500             5               1   \n",
       "\n",
       "   width1  width2  width3  width4  width5  \n",
       "0    0.65     0.0     0.0     0.0     0.0  \n",
       "1    0.65     0.0     0.0     0.0     0.0  \n",
       "2    0.65     0.0     0.0     0.0     0.0  \n",
       "3    0.65     0.0     0.0     0.0     0.0  \n",
       "4    0.65     0.0     0.0     0.0     0.0  "
      ]
     },
     "execution_count": 4,
     "metadata": {},
     "output_type": "execute_result"
    }
   ],
   "source": [
    "data = pd.read_excel(\"data/openings.xlsx\")\n",
    "data.head()"
   ]
  },
  {
   "cell_type": "code",
   "execution_count": 6,
   "id": "de478887-3d4b-4258-bbe5-ae96b8320b4b",
   "metadata": {},
   "outputs": [],
   "source": [
    "X = data.drop(['no_of_openings', 'width1', 'width2', 'width3', 'width4', 'width5'], axis=1)"
   ]
  },
  {
   "cell_type": "code",
   "execution_count": 7,
   "id": "bc67033c-f3f4-41c8-a727-df32200329ef",
   "metadata": {},
   "outputs": [],
   "source": [
    "y = data.drop([\"space\", \"room_size\", \"capacity\", \"user_per_min\"], axis=1)"
   ]
  },
  {
   "cell_type": "markdown",
   "id": "9ea5e089-1e31-4985-9133-1a22b0c276e2",
   "metadata": {},
   "source": [
    "## Split the data into train and test data"
   ]
  },
  {
   "cell_type": "code",
   "execution_count": 8,
   "id": "7b3251c3-4240-43ae-a7c0-9c7268bff904",
   "metadata": {},
   "outputs": [],
   "source": [
    "X_train, X_test, y_train, y_test = train_test_split(X, y, test_size=0.1, random_state=42)"
   ]
  },
  {
   "cell_type": "markdown",
   "id": "859b0731-e3b9-4405-a43f-4134f3b5117a",
   "metadata": {},
   "source": [
    "# Data Preprocessing"
   ]
  },
  {
   "cell_type": "code",
   "execution_count": 9,
   "id": "f139186d-1d2a-4855-86b7-49ff8a5d1cd1",
   "metadata": {},
   "outputs": [],
   "source": [
    "num_attribs = [\"room_size\", \"capacity\", \"user_per_min\"]\n",
    "cat_attribs = [\"space\"]\n",
    "\n",
    "num_pipeline = Pipeline([('std_scaler', StandardScaler())])\n",
    "\n",
    "full_pipeline = ColumnTransformer([\n",
    "        (\"num\", num_pipeline, num_attribs),\n",
    "        (\"cat\", OneHotEncoder(), cat_attribs),\n",
    "    ])"
   ]
  },
  {
   "cell_type": "code",
   "execution_count": 10,
   "id": "748ef60e-8222-4e88-8471-cd118362c8ca",
   "metadata": {},
   "outputs": [],
   "source": [
    "X_train_tensor = torch.Tensor(full_pipeline.fit_transform(X_train)).to(device)\n",
    "X_test_tensor = torch.Tensor(full_pipeline.transform(X_test)).to(device)\n",
    "y_train_tensor = torch.from_numpy(y_train.values).float().to(device)\n",
    "y_test_tensor = torch.from_numpy(y_test.values).float().to(device)"
   ]
  },
  {
   "cell_type": "code",
   "execution_count": 18,
   "id": "732fd681-7ec0-4021-b6ca-b055681aac13",
   "metadata": {},
   "outputs": [
    {
     "data": {
      "text/plain": [
       "torch.Size([6615, 13])"
      ]
     },
     "execution_count": 18,
     "metadata": {},
     "output_type": "execute_result"
    }
   ],
   "source": [
    "X_train_tensor.shape"
   ]
  },
  {
   "cell_type": "markdown",
   "id": "940e5f6d-5762-4306-a8e0-f5290c01578a",
   "metadata": {},
   "source": [
    "# Building the model"
   ]
  },
  {
   "cell_type": "code",
   "execution_count": 31,
   "id": "9d10ec15-0136-45a7-901d-e6ceeeb592d7",
   "metadata": {},
   "outputs": [],
   "source": [
    "class OpeningsPredictor(nn.Module):\n",
    "    def __init__(self):\n",
    "        super().__init__()\n",
    "        self.layer_stack = nn.Sequential(\n",
    "            nn.Linear(in_features=13, out_features=128),\n",
    "            nn.ReLU(),\n",
    "            nn.Linear(in_features=128, out_features=256),\n",
    "            nn.ReLU(),\n",
    "            nn.Linear(in_features=256, out_features=128),\n",
    "            nn.ReLU(),\n",
    "            nn.Linear(in_features=128, out_features=64),\n",
    "            nn.ReLU(),\n",
    "            nn.Linear(in_features=64, out_features=6)\n",
    "        )\n",
    "\n",
    "    def forward(self, X):\n",
    "        return self.layer_stack(X)"
   ]
  },
  {
   "cell_type": "code",
   "execution_count": 32,
   "id": "6354304a-a65c-48de-906a-c0e23cd9765d",
   "metadata": {},
   "outputs": [],
   "source": [
    "openings_predictor = OpeningsPredictor().to(device)"
   ]
  },
  {
   "cell_type": "code",
   "execution_count": 33,
   "id": "2e8c252f-2488-4aa5-ac5d-313e1f1aaa31",
   "metadata": {},
   "outputs": [],
   "source": [
    "loss_fn = nn.L1Loss()\n",
    "optimizer = torch.optim.Adam(params=openings_predictor.parameters(), lr=0.1)"
   ]
  },
  {
   "cell_type": "markdown",
   "id": "ee7ac4fc-f5b0-4f02-a83f-9fb483202a85",
   "metadata": {},
   "source": [
    "# Training the model"
   ]
  },
  {
   "cell_type": "code",
   "execution_count": 41,
   "id": "57d7ba7d-55d8-438f-bdf1-f89c2fbe994c",
   "metadata": {},
   "outputs": [
    {
     "ename": "AttributeError",
     "evalue": "'int' object has no attribute 'cpu'",
     "output_type": "error",
     "traceback": [
      "\u001b[0;31m---------------------------------------------------------------------------\u001b[0m",
      "\u001b[0;31mAttributeError\u001b[0m                            Traceback (most recent call last)",
      "Cell \u001b[0;32mIn[41], line 26\u001b[0m\n\u001b[1;32m     24\u001b[0m \u001b[38;5;66;03m# Print out what's happening\u001b[39;00m\n\u001b[1;32m     25\u001b[0m \u001b[38;5;28;01mif\u001b[39;00m epoch \u001b[38;5;241m%\u001b[39m \u001b[38;5;241m100\u001b[39m \u001b[38;5;241m==\u001b[39m \u001b[38;5;241m0\u001b[39m:\n\u001b[0;32m---> 26\u001b[0m     epoch_count\u001b[38;5;241m.\u001b[39mappend(\u001b[43mepoch\u001b[49m\u001b[38;5;241;43m.\u001b[39;49m\u001b[43mcpu\u001b[49m())\n\u001b[1;32m     27\u001b[0m     train_loss_values\u001b[38;5;241m.\u001b[39mappend(train_loss\u001b[38;5;241m.\u001b[39mcpu())\n\u001b[1;32m     28\u001b[0m     test_loss_values\u001b[38;5;241m.\u001b[39mappend(test_loss\u001b[38;5;241m.\u001b[39mcpu())\n",
      "\u001b[0;31mAttributeError\u001b[0m: 'int' object has no attribute 'cpu'"
     ]
    }
   ],
   "source": [
    "torch.manual_seed(42)\n",
    "epochs = 1000\n",
    "\n",
    "epoch_count = []\n",
    "train_loss_values = []\n",
    "test_loss_values = []\n",
    "\n",
    "for epoch in range(epochs):\n",
    "\n",
    "    # Training\n",
    "    openings_predictor.train()\n",
    "    train_predictions = openings_predictor(X_train_tensor)\n",
    "    train_loss = loss_fn(train_predictions, y_train_tensor)\n",
    "    optimizer.zero_grad()\n",
    "    train_loss.backward()\n",
    "    optimizer.step()\n",
    "\n",
    "    # Testing\n",
    "    openings_predictor.eval()\n",
    "    with torch.inference_mode():\n",
    "        test_predictions = openings_predictor(X_test_tensor)\n",
    "        test_loss = loss_fn(test_predictions, y_test_tensor)\n",
    "\n",
    "    # Print out what's happening\n",
    "    if epoch % 100 == 0:\n",
    "        epoch_count.append(epoch)\n",
    "        train_loss_values.append(train_loss)\n",
    "        test_loss_values.append(test_loss)\n",
    "        print(f\"Epoch: {epoch} | Loss: {train_loss:.5f} | Test Loss: {test_loss:.5f}\")"
   ]
  },
  {
   "cell_type": "markdown",
   "id": "6405f113-7e9d-4406-a48d-1f0bf4349f9d",
   "metadata": {},
   "source": [
    "# Plot the loss"
   ]
  },
  {
   "cell_type": "code",
   "execution_count": 40,
   "id": "a67d75bd-282a-4a56-a9f2-0149bd40478e",
   "metadata": {},
   "outputs": [
    {
     "ename": "AttributeError",
     "evalue": "'list' object has no attribute 'cpu'",
     "output_type": "error",
     "traceback": [
      "\u001b[0;31m---------------------------------------------------------------------------\u001b[0m",
      "\u001b[0;31mAttributeError\u001b[0m                            Traceback (most recent call last)",
      "Cell \u001b[0;32mIn[40], line 1\u001b[0m\n\u001b[0;32m----> 1\u001b[0m plt\u001b[38;5;241m.\u001b[39mplot(epoch_count, \u001b[43mtrain_loss_values\u001b[49m\u001b[38;5;241;43m.\u001b[39;49m\u001b[43mcpu\u001b[49m(), label\u001b[38;5;241m=\u001b[39m\u001b[38;5;124m\"\u001b[39m\u001b[38;5;124mTrain loss\u001b[39m\u001b[38;5;124m\"\u001b[39m)\n\u001b[1;32m      2\u001b[0m plt\u001b[38;5;241m.\u001b[39mplot(epoch_count, test_loss_values\u001b[38;5;241m.\u001b[39mcpu(), label\u001b[38;5;241m=\u001b[39m\u001b[38;5;124m\"\u001b[39m\u001b[38;5;124mTest loss\u001b[39m\u001b[38;5;124m\"\u001b[39m)\n\u001b[1;32m      3\u001b[0m plt\u001b[38;5;241m.\u001b[39mtitle(\u001b[38;5;124m\"\u001b[39m\u001b[38;5;124mTraining and test loss curves\u001b[39m\u001b[38;5;124m\"\u001b[39m)\n",
      "\u001b[0;31mAttributeError\u001b[0m: 'list' object has no attribute 'cpu'"
     ]
    }
   ],
   "source": [
    "plt.plot(epoch_count, train_loss_values, label=\"Train loss\")\n",
    "plt.plot(epoch_count, test_loss_values, label=\"Test loss\")\n",
    "plt.title(\"Training and test loss curves\")\n",
    "plt.ylabel(\"Loss\")\n",
    "plt.xlabel(\"Epochs\")\n",
    "plt.legend()"
   ]
  },
  {
   "cell_type": "markdown",
   "id": "dac8321b-c927-4e46-9d60-1e61f1933421",
   "metadata": {},
   "source": [
    "# Saving the model"
   ]
  },
  {
   "cell_type": "code",
   "execution_count": null,
   "id": "b2074ea3-06bf-4e24-a6d9-dc2fb2a763a0",
   "metadata": {},
   "outputs": [],
   "source": [
    "torch.save(openings_predictor, \"../models/openings.pth\")"
   ]
  }
 ],
 "metadata": {
  "kernelspec": {
   "display_name": "Python 3 (ipykernel)",
   "language": "python",
   "name": "python3"
  },
  "language_info": {
   "codemirror_mode": {
    "name": "ipython",
    "version": 3
   },
   "file_extension": ".py",
   "mimetype": "text/x-python",
   "name": "python",
   "nbconvert_exporter": "python",
   "pygments_lexer": "ipython3",
   "version": "3.10.12"
  }
 },
 "nbformat": 4,
 "nbformat_minor": 5
}
